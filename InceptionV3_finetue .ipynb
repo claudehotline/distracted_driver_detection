{
 "cells": [
  {
   "cell_type": "markdown",
   "metadata": {},
   "source": [
    "# 毕业项目：检测分神司机"
   ]
  },
  {
   "cell_type": "code",
   "execution_count": 2,
   "metadata": {
    "scrolled": false
   },
   "outputs": [
    {
     "name": "stderr",
     "output_type": "stream",
     "text": [
      "d:\\python35\\lib\\site-packages\\h5py\\__init__.py:36: FutureWarning: Conversion of the second argument of issubdtype from `float` to `np.floating` is deprecated. In future, it will be treated as `np.float64 == np.dtype(float).type`.\n",
      "  from ._conv import register_converters as _register_converters\n",
      "Using TensorFlow backend.\n"
     ]
    }
   ],
   "source": [
    "%config InlineBackend.figure_format = 'retina'\n",
    "\n",
    "from urllib.request import urlretrieve\n",
    "from os.path import isfile, isdir, join, pardir\n",
    "from IPython.display import SVG, Image\n",
    "import os, shutil\n",
    "import random\n",
    "import glob\n",
    "import zipfile\n",
    "\n",
    "import pandas as pd\n",
    "import numpy as np\n",
    "import matplotlib.pyplot as plt\n",
    "import seaborn as sns\n",
    "\n",
    "from keras.preprocessing import image\n",
    "from keras.models import Model, load_model\n",
    "from keras.preprocessing.image import ImageDataGenerator\n",
    "from keras.layers import Input, Dense, Flatten, GlobalAveragePooling2D, Dropout\n",
    "from keras import optimizers\n",
    "from keras.utils.vis_utils import model_to_dot, plot_model\n",
    "from keras.utils import to_categorical\n",
    "from keras import regularizers\n",
    "\n",
    "from keras.applications import inception_v3\n",
    "from keras.applications.inception_v3 import InceptionV3\n",
    "\n",
    "\n",
    "import pydot\n",
    "import cv2\n",
    "import h5py"
   ]
  },
  {
   "cell_type": "code",
   "execution_count": 7,
   "metadata": {},
   "outputs": [
    {
     "name": "stderr",
     "output_type": "stream",
     "text": [
      "d:\\python35\\lib\\site-packages\\keras\\preprocessing\\image.py:504: UserWarning: This ImageDataGenerator specifies `featurewise_std_normalization`, which overrides setting of `featurewise_center`.\n",
      "  warnings.warn('This ImageDataGenerator specifies '\n"
     ]
    },
    {
     "name": "stdout",
     "output_type": "stream",
     "text": [
      "Found 20097 images belonging to 10 classes.\n",
      "Found 2327 images belonging to 10 classes.\n"
     ]
    }
   ],
   "source": [
    "driver_dataset_folder_path = join(pardir, 'data', 'driver_dataset')\n",
    "image_train_folder_path = join(pardir, 'data', 'driver_dataset', 'train')\n",
    "image_test_floder_path = join(pardir, 'data', 'driver_dataset', 'test')\n",
    "image_valid_folder_path = join(pardir, 'data', 'driver_dataset', 'valid')\n",
    "\n",
    "inceptionv3_train_datagen = ImageDataGenerator(\n",
    "    rotation_range=10.,\n",
    "    width_shift_range=0.05,\n",
    "    height_shift_range=0.05,\n",
    "    preprocessing_function=inception_v3.preprocess_input)\n",
    "\n",
    "inceptionv3_valid_datagen = ImageDataGenerator(\n",
    "    preprocessing_function=inception_v3.preprocess_input)\n",
    "\n",
    "\n",
    "inceptionv3_train_generator = inceptionv3_train_datagen.flow_from_directory(\n",
    "    image_train_folder_path,\n",
    "    target_size=(299, 299),\n",
    "    batch_size=32,\n",
    "    class_mode='categorical')\n",
    "\n",
    "inceptionv3_valid_generator = inceptionv3_valid_datagen.flow_from_directory(\n",
    "    image_valid_folder_path,\n",
    "    target_size=(299, 299),\n",
    "    batch_size=32,\n",
    "    class_mode='categorical',\n",
    "    shuffle=False)"
   ]
  },
  {
   "cell_type": "markdown",
   "metadata": {},
   "source": [
    "### 二、创建模型"
   ]
  },
  {
   "cell_type": "code",
   "execution_count": 8,
   "metadata": {},
   "outputs": [
    {
     "name": "stdout",
     "output_type": "stream",
     "text": [
      "0 input_3\n",
      "1 conv2d_189\n",
      "2 batch_normalization_189\n",
      "3 activation_189\n",
      "4 conv2d_190\n",
      "5 batch_normalization_190\n",
      "6 activation_190\n",
      "7 conv2d_191\n",
      "8 batch_normalization_191\n",
      "9 activation_191\n",
      "10 max_pooling2d_9\n",
      "11 conv2d_192\n",
      "12 batch_normalization_192\n",
      "13 activation_192\n",
      "14 conv2d_193\n",
      "15 batch_normalization_193\n",
      "16 activation_193\n",
      "17 max_pooling2d_10\n",
      "18 conv2d_197\n",
      "19 batch_normalization_197\n",
      "20 activation_197\n",
      "21 conv2d_195\n",
      "22 conv2d_198\n",
      "23 batch_normalization_195\n",
      "24 batch_normalization_198\n",
      "25 activation_195\n",
      "26 activation_198\n",
      "27 average_pooling2d_19\n",
      "28 conv2d_194\n",
      "29 conv2d_196\n",
      "30 conv2d_199\n",
      "31 conv2d_200\n",
      "32 batch_normalization_194\n",
      "33 batch_normalization_196\n",
      "34 batch_normalization_199\n",
      "35 batch_normalization_200\n",
      "36 activation_194\n",
      "37 activation_196\n",
      "38 activation_199\n",
      "39 activation_200\n",
      "40 mixed0\n",
      "41 conv2d_204\n",
      "42 batch_normalization_204\n",
      "43 activation_204\n",
      "44 conv2d_202\n",
      "45 conv2d_205\n",
      "46 batch_normalization_202\n",
      "47 batch_normalization_205\n",
      "48 activation_202\n",
      "49 activation_205\n",
      "50 average_pooling2d_20\n",
      "51 conv2d_201\n",
      "52 conv2d_203\n",
      "53 conv2d_206\n",
      "54 conv2d_207\n",
      "55 batch_normalization_201\n",
      "56 batch_normalization_203\n",
      "57 batch_normalization_206\n",
      "58 batch_normalization_207\n",
      "59 activation_201\n",
      "60 activation_203\n",
      "61 activation_206\n",
      "62 activation_207\n",
      "63 mixed1\n",
      "64 conv2d_211\n",
      "65 batch_normalization_211\n",
      "66 activation_211\n",
      "67 conv2d_209\n",
      "68 conv2d_212\n",
      "69 batch_normalization_209\n",
      "70 batch_normalization_212\n",
      "71 activation_209\n",
      "72 activation_212\n",
      "73 average_pooling2d_21\n",
      "74 conv2d_208\n",
      "75 conv2d_210\n",
      "76 conv2d_213\n",
      "77 conv2d_214\n",
      "78 batch_normalization_208\n",
      "79 batch_normalization_210\n",
      "80 batch_normalization_213\n",
      "81 batch_normalization_214\n",
      "82 activation_208\n",
      "83 activation_210\n",
      "84 activation_213\n",
      "85 activation_214\n",
      "86 mixed2\n",
      "87 conv2d_216\n",
      "88 batch_normalization_216\n",
      "89 activation_216\n",
      "90 conv2d_217\n",
      "91 batch_normalization_217\n",
      "92 activation_217\n",
      "93 conv2d_215\n",
      "94 conv2d_218\n",
      "95 batch_normalization_215\n",
      "96 batch_normalization_218\n",
      "97 activation_215\n",
      "98 activation_218\n",
      "99 max_pooling2d_11\n",
      "100 mixed3\n",
      "101 conv2d_223\n",
      "102 batch_normalization_223\n",
      "103 activation_223\n",
      "104 conv2d_224\n",
      "105 batch_normalization_224\n",
      "106 activation_224\n",
      "107 conv2d_220\n",
      "108 conv2d_225\n",
      "109 batch_normalization_220\n",
      "110 batch_normalization_225\n",
      "111 activation_220\n",
      "112 activation_225\n",
      "113 conv2d_221\n",
      "114 conv2d_226\n",
      "115 batch_normalization_221\n",
      "116 batch_normalization_226\n",
      "117 activation_221\n",
      "118 activation_226\n",
      "119 average_pooling2d_22\n",
      "120 conv2d_219\n",
      "121 conv2d_222\n",
      "122 conv2d_227\n",
      "123 conv2d_228\n",
      "124 batch_normalization_219\n",
      "125 batch_normalization_222\n",
      "126 batch_normalization_227\n",
      "127 batch_normalization_228\n",
      "128 activation_219\n",
      "129 activation_222\n",
      "130 activation_227\n",
      "131 activation_228\n",
      "132 mixed4\n",
      "133 conv2d_233\n",
      "134 batch_normalization_233\n",
      "135 activation_233\n",
      "136 conv2d_234\n",
      "137 batch_normalization_234\n",
      "138 activation_234\n",
      "139 conv2d_230\n",
      "140 conv2d_235\n",
      "141 batch_normalization_230\n",
      "142 batch_normalization_235\n",
      "143 activation_230\n",
      "144 activation_235\n",
      "145 conv2d_231\n",
      "146 conv2d_236\n",
      "147 batch_normalization_231\n",
      "148 batch_normalization_236\n",
      "149 activation_231\n",
      "150 activation_236\n",
      "151 average_pooling2d_23\n",
      "152 conv2d_229\n",
      "153 conv2d_232\n",
      "154 conv2d_237\n",
      "155 conv2d_238\n",
      "156 batch_normalization_229\n",
      "157 batch_normalization_232\n",
      "158 batch_normalization_237\n",
      "159 batch_normalization_238\n",
      "160 activation_229\n",
      "161 activation_232\n",
      "162 activation_237\n",
      "163 activation_238\n",
      "164 mixed5\n",
      "165 conv2d_243\n",
      "166 batch_normalization_243\n",
      "167 activation_243\n",
      "168 conv2d_244\n",
      "169 batch_normalization_244\n",
      "170 activation_244\n",
      "171 conv2d_240\n",
      "172 conv2d_245\n",
      "173 batch_normalization_240\n",
      "174 batch_normalization_245\n",
      "175 activation_240\n",
      "176 activation_245\n",
      "177 conv2d_241\n",
      "178 conv2d_246\n",
      "179 batch_normalization_241\n",
      "180 batch_normalization_246\n",
      "181 activation_241\n",
      "182 activation_246\n",
      "183 average_pooling2d_24\n",
      "184 conv2d_239\n",
      "185 conv2d_242\n",
      "186 conv2d_247\n",
      "187 conv2d_248\n",
      "188 batch_normalization_239\n",
      "189 batch_normalization_242\n",
      "190 batch_normalization_247\n",
      "191 batch_normalization_248\n",
      "192 activation_239\n",
      "193 activation_242\n",
      "194 activation_247\n",
      "195 activation_248\n",
      "196 mixed6\n",
      "197 conv2d_253\n",
      "198 batch_normalization_253\n",
      "199 activation_253\n",
      "200 conv2d_254\n",
      "201 batch_normalization_254\n",
      "202 activation_254\n",
      "203 conv2d_250\n",
      "204 conv2d_255\n",
      "205 batch_normalization_250\n",
      "206 batch_normalization_255\n",
      "207 activation_250\n",
      "208 activation_255\n",
      "209 conv2d_251\n",
      "210 conv2d_256\n",
      "211 batch_normalization_251\n",
      "212 batch_normalization_256\n",
      "213 activation_251\n",
      "214 activation_256\n",
      "215 average_pooling2d_25\n",
      "216 conv2d_249\n",
      "217 conv2d_252\n",
      "218 conv2d_257\n",
      "219 conv2d_258\n",
      "220 batch_normalization_249\n",
      "221 batch_normalization_252\n",
      "222 batch_normalization_257\n",
      "223 batch_normalization_258\n",
      "224 activation_249\n",
      "225 activation_252\n",
      "226 activation_257\n",
      "227 activation_258\n",
      "228 mixed7\n",
      "229 conv2d_261\n",
      "230 batch_normalization_261\n",
      "231 activation_261\n",
      "232 conv2d_262\n",
      "233 batch_normalization_262\n",
      "234 activation_262\n",
      "235 conv2d_259\n",
      "236 conv2d_263\n",
      "237 batch_normalization_259\n",
      "238 batch_normalization_263\n",
      "239 activation_259\n",
      "240 activation_263\n",
      "241 conv2d_260\n",
      "242 conv2d_264\n",
      "243 batch_normalization_260\n",
      "244 batch_normalization_264\n",
      "245 activation_260\n",
      "246 activation_264\n",
      "247 max_pooling2d_12\n",
      "248 mixed8\n",
      "249 conv2d_269\n",
      "250 batch_normalization_269\n",
      "251 activation_269\n",
      "252 conv2d_266\n",
      "253 conv2d_270\n",
      "254 batch_normalization_266\n",
      "255 batch_normalization_270\n",
      "256 activation_266\n",
      "257 activation_270\n",
      "258 conv2d_267\n",
      "259 conv2d_268\n",
      "260 conv2d_271\n",
      "261 conv2d_272\n",
      "262 average_pooling2d_26\n",
      "263 conv2d_265\n",
      "264 batch_normalization_267\n",
      "265 batch_normalization_268\n",
      "266 batch_normalization_271\n",
      "267 batch_normalization_272\n",
      "268 conv2d_273\n",
      "269 batch_normalization_265\n",
      "270 activation_267\n",
      "271 activation_268\n",
      "272 activation_271\n",
      "273 activation_272\n",
      "274 batch_normalization_273\n",
      "275 activation_265\n",
      "276 mixed9_0\n",
      "277 concatenate_5\n",
      "278 activation_273\n",
      "279 mixed9\n",
      "280 conv2d_278\n",
      "281 batch_normalization_278\n",
      "282 activation_278\n",
      "283 conv2d_275\n",
      "284 conv2d_279\n",
      "285 batch_normalization_275\n",
      "286 batch_normalization_279\n",
      "287 activation_275\n",
      "288 activation_279\n",
      "289 conv2d_276\n",
      "290 conv2d_277\n",
      "291 conv2d_280\n",
      "292 conv2d_281\n",
      "293 average_pooling2d_27\n",
      "294 conv2d_274\n",
      "295 batch_normalization_276\n",
      "296 batch_normalization_277\n",
      "297 batch_normalization_280\n",
      "298 batch_normalization_281\n",
      "299 conv2d_282\n",
      "300 batch_normalization_274\n",
      "301 activation_276\n",
      "302 activation_277\n",
      "303 activation_280\n",
      "304 activation_281\n",
      "305 batch_normalization_282\n",
      "306 activation_274\n",
      "307 mixed9_1\n",
      "308 concatenate_6\n",
      "309 activation_282\n",
      "310 mixed10\n"
     ]
    }
   ],
   "source": [
    "model_inceptionv3 = InceptionV3(include_top=False, weights='imagenet')\n",
    "\n",
    "#print('Print resnet50 model summary:')\n",
    "#print(model_resnet50.summary())\n",
    "\n",
    "for i, layer in enumerate(model_inceptionv3.layers):\n",
    "    print (i, layer.name)\n",
    "        \n",
    "input = Input(shape=(299, 299, 3),name = 'image_input')\n",
    " \n",
    "output_inceptionv3_conv = model_inceptionv3(input)\n",
    "   \n",
    "x = GlobalAveragePooling2D()(output_inceptionv3_conv)\n",
    "x = Dropout(0.5)(x)\n",
    "x = Dense(10, activation='softmax', kernel_regularizer=regularizers.l2(0.01))(x)"
   ]
  },
  {
   "cell_type": "markdown",
   "metadata": {},
   "source": [
    "### 三、模型创建\n",
    "#### 1.锁定ResNet50模型前100层"
   ]
  },
  {
   "cell_type": "code",
   "execution_count": 7,
   "metadata": {
    "scrolled": false
   },
   "outputs": [
    {
     "name": "stderr",
     "output_type": "stream",
     "text": [
      "d:\\python35\\lib\\site-packages\\ipykernel_launcher.py:1: UserWarning: Update your `Model` call to the Keras 2 API: `Model(inputs=Tensor(\"im..., outputs=Tensor(\"de...)`\n",
      "  \"\"\"Entry point for launching an IPython kernel.\n"
     ]
    }
   ],
   "source": [
    "model_100 = Model(input=input, output=x)\n",
    "\n",
    "for i in range(100):\n",
    "    model_inceptionv3.layers[i].trainable = False\n",
    "    \n",
    "adam = optimizers.Adam(lr=1e-4)\n",
    "model_100.compile(optimizer=adam, loss='categorical_crossentropy', metrics=['categorical_accuracy'])"
   ]
  },
  {
   "cell_type": "code",
   "execution_count": 8,
   "metadata": {},
   "outputs": [
    {
     "name": "stdout",
     "output_type": "stream",
     "text": [
      "Epoch 1/5\n"
     ]
    },
    {
     "name": "stderr",
     "output_type": "stream",
     "text": [
      "d:\\python35\\lib\\site-packages\\keras\\preprocessing\\image.py:571: UserWarning: This ImageDataGenerator specifies `featurewise_center`, but it hasn't been fit on any training data. Fit it first by calling `.fit(numpy_data)`.\n",
      "  warnings.warn('This ImageDataGenerator specifies '\n",
      "d:\\python35\\lib\\site-packages\\keras\\preprocessing\\image.py:579: UserWarning: This ImageDataGenerator specifies `featurewise_std_normalization`, but it hasn't been fit on any training data. Fit it first by calling `.fit(numpy_data)`.\n",
      "  warnings.warn('This ImageDataGenerator specifies '\n"
     ]
    },
    {
     "name": "stdout",
     "output_type": "stream",
     "text": [
      "629/629 [==============================] - 467s 742ms/step - loss: 0.4471 - categorical_accuracy: 0.9200 - val_loss: 0.4534 - val_categorical_accuracy: 0.9265\n",
      "Epoch 2/5\n",
      "629/629 [==============================] - 457s 726ms/step - loss: 0.1785 - categorical_accuracy: 0.9902 - val_loss: 0.4180 - val_categorical_accuracy: 0.9239\n",
      "Epoch 3/5\n",
      "629/629 [==============================] - 456s 724ms/step - loss: 0.1238 - categorical_accuracy: 0.9936 - val_loss: 0.4117 - val_categorical_accuracy: 0.9145\n",
      "Epoch 4/5\n",
      "629/629 [==============================] - 456s 725ms/step - loss: 0.0874 - categorical_accuracy: 0.9942 - val_loss: 0.3990 - val_categorical_accuracy: 0.9102\n",
      "Epoch 5/5\n",
      "629/629 [==============================] - 458s 728ms/step - loss: 0.0623 - categorical_accuracy: 0.9957 - val_loss: 0.3970 - val_categorical_accuracy: 0.9046\n"
     ]
    }
   ],
   "source": [
    "history_100 = model_100.fit_generator(\n",
    "    inceptionv3_train_generator,\n",
    "    epochs=5,\n",
    "    validation_data=inceptionv3_valid_generator)"
   ]
  },
  {
   "cell_type": "code",
   "execution_count": 9,
   "metadata": {},
   "outputs": [
    {
     "name": "stderr",
     "output_type": "stream",
     "text": [
      "d:\\python35\\lib\\site-packages\\keras\\preprocessing\\image.py:571: UserWarning: This ImageDataGenerator specifies `featurewise_center`, but it hasn't been fit on any training data. Fit it first by calling `.fit(numpy_data)`.\n",
      "  warnings.warn('This ImageDataGenerator specifies '\n",
      "d:\\python35\\lib\\site-packages\\keras\\preprocessing\\image.py:579: UserWarning: This ImageDataGenerator specifies `featurewise_std_normalization`, but it hasn't been fit on any training data. Fit it first by calling `.fit(numpy_data)`.\n",
      "  warnings.warn('This ImageDataGenerator specifies '\n"
     ]
    },
    {
     "name": "stdout",
     "output_type": "stream",
     "text": [
      "Inceptionv3 model saved.\n"
     ]
    }
   ],
   "source": [
    "model_100.save(join(pardir, 'model', 'inceptionv3_finetune_100.h5'))\n",
    "print(\"Inceptionv3 model saved.\")"
   ]
  },
  {
   "cell_type": "code",
   "execution_count": 10,
   "metadata": {
    "scrolled": false
   },
   "outputs": [
    {
     "name": "stdout",
     "output_type": "stream",
     "text": [
      "{'val_loss': [0.45337795191790653, 0.4180121127248681, 0.4116594876964358, 0.39898851776409927, 0.3970207563018307], 'val_categorical_accuracy': [0.9265148260842386, 0.9239363989248058, 0.9144821657251276, 0.9101847872285306, 0.9045981950497597], 'loss': [0.4438318363936996, 0.17472542808643945, 0.12058071526163294, 0.0840852961300819, 0.05842305290916698], 'categorical_accuracy': [0.9213813006916455, 0.9916903020351296, 0.9951236502960641, 0.9957705130118923, 0.9972135144548938]}\n"
     ]
    },
    {
     "data": {
      "image/png": "[encoded data removed]",
      "text/plain": [
       "<matplotlib.figure.Figure at 0x2661461fc50>"
      ]
     },
     "metadata": {
      "image/png": {
       "height": 250,
       "width": 380
      }
     },
     "output_type": "display_data"
    }
   ],
   "source": [
    "print (history_100.history)\n",
    "plt.plot (history_100.history['loss'], label=\"trainning loss\")\n",
    "plt.plot (history_100.history['val_loss'], label=\"validation loss\")\n",
    "plt.legend()\n",
    "plt.show()"
   ]
  },
  {
   "cell_type": "markdown",
   "metadata": {},
   "source": [
    "#### 2.锁定InceptionV3模型前196层"
   ]
  },
  {
   "cell_type": "code",
   "execution_count": 11,
   "metadata": {},
   "outputs": [
    {
     "name": "stderr",
     "output_type": "stream",
     "text": [
      "d:\\python35\\lib\\site-packages\\ipykernel_launcher.py:1: UserWarning: Update your `Model` call to the Keras 2 API: `Model(outputs=Tensor(\"de..., inputs=Tensor(\"im...)`\n",
      "  \"\"\"Entry point for launching an IPython kernel.\n"
     ]
    }
   ],
   "source": [
    "model_196 = Model(input=input, output=x)\n",
    "\n",
    "for i in range(196):\n",
    "    model_inceptionv3.layers[i].trainable = False\n",
    "    \n",
    "adam = optimizers.Adam(lr=1e-4)\n",
    "model_196.compile(optimizer=adam, loss='categorical_crossentropy', metrics=['categorical_accuracy'])"
   ]
  },
  {
   "cell_type": "code",
   "execution_count": 12,
   "metadata": {},
   "outputs": [
    {
     "name": "stdout",
     "output_type": "stream",
     "text": [
      "Epoch 1/5\n"
     ]
    },
    {
     "name": "stderr",
     "output_type": "stream",
     "text": [
      "d:\\python35\\lib\\site-packages\\keras\\preprocessing\\image.py:571: UserWarning: This ImageDataGenerator specifies `featurewise_center`, but it hasn't been fit on any training data. Fit it first by calling `.fit(numpy_data)`.\n",
      "  warnings.warn('This ImageDataGenerator specifies '\n",
      "d:\\python35\\lib\\site-packages\\keras\\preprocessing\\image.py:579: UserWarning: This ImageDataGenerator specifies `featurewise_std_normalization`, but it hasn't been fit on any training data. Fit it first by calling `.fit(numpy_data)`.\n",
      "  warnings.warn('This ImageDataGenerator specifies '\n"
     ]
    },
    {
     "name": "stdout",
     "output_type": "stream",
     "text": [
      "629/629 [==============================] - 468s 744ms/step - loss: 0.0442 - categorical_accuracy: 0.9971 - val_loss: 0.4300 - val_categorical_accuracy: 0.9192\n",
      "Epoch 2/5\n",
      "629/629 [==============================] - 683s 1s/step - loss: 0.0308 - categorical_accuracy: 0.9973 - val_loss: 0.3592 - val_categorical_accuracy: 0.9158\n",
      "Epoch 3/5\n",
      "629/629 [==============================] - 690s 1s/step - loss: 0.0277 - categorical_accuracy: 0.9974 - val_loss: 0.3997 - val_categorical_accuracy: 0.9093\n",
      "Epoch 4/5\n",
      "629/629 [==============================] - 452s 719ms/step - loss: 0.0274 - categorical_accuracy: 0.9986 - val_loss: 0.3236 - val_categorical_accuracy: 0.9179\n",
      "Epoch 5/5\n",
      "629/629 [==============================] - 451s 718ms/step - loss: 0.0254 - categorical_accuracy: 0.9975 - val_loss: 0.4370 - val_categorical_accuracy: 0.9132\n"
     ]
    }
   ],
   "source": [
    "history_196 = model_196.fit_generator(\n",
    "    inceptionv3_train_generator,\n",
    "    epochs=5,\n",
    "    validation_data=inceptionv3_valid_generator)"
   ]
  },
  {
   "cell_type": "code",
   "execution_count": 13,
   "metadata": {},
   "outputs": [
    {
     "name": "stderr",
     "output_type": "stream",
     "text": [
      "d:\\python35\\lib\\site-packages\\keras\\preprocessing\\image.py:571: UserWarning: This ImageDataGenerator specifies `featurewise_center`, but it hasn't been fit on any training data. Fit it first by calling `.fit(numpy_data)`.\n",
      "  warnings.warn('This ImageDataGenerator specifies '\n",
      "d:\\python35\\lib\\site-packages\\keras\\preprocessing\\image.py:579: UserWarning: This ImageDataGenerator specifies `featurewise_std_normalization`, but it hasn't been fit on any training data. Fit it first by calling `.fit(numpy_data)`.\n",
      "  warnings.warn('This ImageDataGenerator specifies '\n"
     ]
    },
    {
     "name": "stdout",
     "output_type": "stream",
     "text": [
      "InceptionV3 model saved.\n"
     ]
    }
   ],
   "source": [
    "model_196.save(join(pardir, 'model', 'inceptionv3_finetune_196.h5'))\n",
    "print(\"InceptionV3 model saved.\")"
   ]
  },
  {
   "cell_type": "code",
   "execution_count": 14,
   "metadata": {},
   "outputs": [
    {
     "name": "stdout",
     "output_type": "stream",
     "text": [
      "{'val_loss': [0.43004352100222315, 0.3592001073699577, 0.39971152417998895, 0.3236239800957277, 0.4370423220210082], 'val_categorical_accuracy': [0.9192092823633883, 0.9157713794073016, 0.9093253114190694, 0.9179200686043714, 0.913192952260676], 'loss': [0.04131051465730296, 0.02753687141878472, 0.02432185079278285, 0.02419825597219149, 0.021859642222205603], 'categorical_accuracy': [0.9970642384435487, 0.9988555505796886, 0.9989053092501369, 0.9986067572274469, 0.9990545852614818]}\n"
     ]
    },
    {
     "data": {
      "image/png": "[encoded data removed]",
      "text/plain": [
       "<matplotlib.figure.Figure at 0x2661d1124a8>"
      ]
     },
     "metadata": {
      "image/png": {
       "height": 250,
       "width": 373
      }
     },
     "output_type": "display_data"
    }
   ],
   "source": [
    "print (history_196.history)\n",
    "plt.plot (history_196.history['loss'], label=\"trainning loss\")\n",
    "plt.plot (history_196.history['val_loss'], label=\"validation loss\")\n",
    "plt.legend()\n",
    "plt.show()"
   ]
  },
  {
   "cell_type": "markdown",
   "metadata": {},
   "source": [
    "### 四、模型预测\n",
    "准备测试集数据"
   ]
  },
  {
   "cell_type": "code",
   "execution_count": 15,
   "metadata": {},
   "outputs": [
    {
     "name": "stdout",
     "output_type": "stream",
     "text": [
      "Found 79726 images belonging to 1 classes.\n"
     ]
    }
   ],
   "source": [
    "test_image_path = join(driver_dataset_folder_path, 'test')\n",
    "incpetionv3_test_datagen = ImageDataGenerator(preprocessing_function=inception_v3.preprocess_input)\n",
    "incpetionv3_test_generator = incpetionv3_test_datagen.flow_from_directory(\n",
    "    test_image_path,\n",
    "    target_size=(299, 299),\n",
    "    batch_size=32,\n",
    "    shuffle=False,\n",
    "    class_mode='categorical')"
   ]
  },
  {
   "cell_type": "markdown",
   "metadata": {},
   "source": [
    "#### 1.model_InceptionV3_finetune_100\n",
    "模型加载"
   ]
  },
  {
   "cell_type": "code",
   "execution_count": 16,
   "metadata": {},
   "outputs": [
    {
     "name": "stdout",
     "output_type": "stream",
     "text": [
      "Model loaded.\n"
     ]
    }
   ],
   "source": [
    "model_inceptionv3_finetune_100 = load_model(join(pardir, 'model', 'inceptionv3_finetune_100.h5'))\n",
    "print(\"Model loaded.\")"
   ]
  },
  {
   "cell_type": "markdown",
   "metadata": {},
   "source": [
    "结果预测"
   ]
  },
  {
   "cell_type": "code",
   "execution_count": 17,
   "metadata": {},
   "outputs": [
    {
     "name": "stdout",
     "output_type": "stream",
     "text": [
      "2492/2492 [==============================] - 790s 317ms/step\n",
      "(79726, 10)\n"
     ]
    }
   ],
   "source": [
    "pred_inceptionv3_finetune_100 = model_inceptionv3_finetune_100.predict_generator(incpetionv3_test_generator, verbose=1)\n",
    "print(pred_inceptionv3_finetune_100.shape)"
   ]
  },
  {
   "cell_type": "markdown",
   "metadata": {},
   "source": [
    "生成kaggle提交文件"
   ]
  },
  {
   "cell_type": "code",
   "execution_count": 18,
   "metadata": {},
   "outputs": [],
   "source": [
    "image_names = []\n",
    "for root, dirs, file_name in os.walk(join(test_image_path, '0')):\n",
    "    image_names.append(file_name)\n",
    "image_names = np.array(image_names).transpose()"
   ]
  },
  {
   "cell_type": "code",
   "execution_count": 26,
   "metadata": {
    "scrolled": false
   },
   "outputs": [],
   "source": [
    "result_inceptionv3_finetune_100 = np.append(image_names, pred_inceptionv3_finetune_100, axis = 1)\n",
    "predict_result_inceptionv3_finetune_100 = pd.DataFrame(result_inceptionv3_finetune_100, \n",
    "            columns=['img', 'c0', 'c1', 'c2', 'c3', 'c4', 'c5', 'c6', 'c7', 'c8', 'c9'])\n",
    "predict_result_inceptionv3_finetune_100.to_csv('result_inceptionv3_finetune_100.csv', index=False)"
   ]
  },
  {
   "cell_type": "markdown",
   "metadata": {
    "collapsed": true
   },
   "source": [
    "#### 2.model_InceptionV3_finetune_196\n",
    "模型加载"
   ]
  },
  {
   "cell_type": "code",
   "execution_count": 20,
   "metadata": {},
   "outputs": [
    {
     "name": "stdout",
     "output_type": "stream",
     "text": [
      "Model loaded.\n"
     ]
    }
   ],
   "source": [
    "model_inceptionv3_finetune_196 = load_model(join(pardir, 'model', 'inceptionv3_finetune_196.h5'))\n",
    "print(\"Model loaded.\")"
   ]
  },
  {
   "cell_type": "markdown",
   "metadata": {},
   "source": [
    "结果预测"
   ]
  },
  {
   "cell_type": "code",
   "execution_count": 21,
   "metadata": {},
   "outputs": [
    {
     "name": "stdout",
     "output_type": "stream",
     "text": [
      "2492/2492 [==============================] - 791s 318ms/step\n",
      "(79726, 10)\n"
     ]
    }
   ],
   "source": [
    "pred_inceptionv3_finetune_196 = model_inceptionv3_finetune_100.predict_generator(incpetionv3_test_generator, verbose=1)\n",
    "print(pred_inceptionv3_finetune_196.shape)"
   ]
  },
  {
   "cell_type": "markdown",
   "metadata": {},
   "source": [
    "生成kaggle提交文件"
   ]
  },
  {
   "cell_type": "code",
   "execution_count": 22,
   "metadata": {},
   "outputs": [],
   "source": [
    "image_names = []\n",
    "for root, dirs, file_name in os.walk(join(test_image_path, '0')):\n",
    "    image_names.append(file_name)\n",
    "image_names = np.array(image_names).transpose()"
   ]
  },
  {
   "cell_type": "code",
   "execution_count": 27,
   "metadata": {},
   "outputs": [],
   "source": [
    "result_inceptionv3_finetune_196 = np.append(image_names, pred_inceptionv3_finetune_196, axis = 1)\n",
    "predict_result_inceptionv3_finetune_196 = pd.DataFrame(result_inceptionv3_finetune_196, \n",
    "            columns=['img', 'c0', 'c1', 'c2', 'c3', 'c4', 'c5', 'c6', 'c7', 'c8', 'c9'])\n",
    "predict_result_inceptionv3_finetune_196.to_csv('result_inceptionv3_finetune_196.csv', index=False)"
   ]
  },
  {
   "cell_type": "code",
   "execution_count": null,
   "metadata": {},
   "outputs": [],
   "source": []
  }
 ],
 "metadata": {
  "kernelspec": {
   "display_name": "Python 3",
   "language": "python",
   "name": "python3"
  },
  "language_info": {
   "codemirror_mode": {
    "name": "ipython",
    "version": 3
   },
   "file_extension": ".py",
   "mimetype": "text/x-python",
   "name": "python",
   "nbconvert_exporter": "python",
   "pygments_lexer": "ipython3",
   "version": "3.5.2"
  }
 },
 "nbformat": 4,
 "nbformat_minor": 2
}
