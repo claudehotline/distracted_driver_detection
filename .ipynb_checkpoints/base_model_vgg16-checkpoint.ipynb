{
 "cells": [
  {
   "cell_type": "code",
   "execution_count": 50,
   "metadata": {
    "scrolled": false
   },
   "outputs": [],
   "source": [
    "from urllib.request import urlretrieve\n",
    "from os.path import isfile, isdir, join\n",
    "from IPython.display import SVG, Image\n",
    "import glob\n",
    "import zipfile\n",
    "\n",
    "import pandas as pd\n",
    "import numpy as np\n",
    "import matplotlib.pyplot as plt\n",
    "\n",
    "from keras.models import Model\n",
    "from keras.preprocessing.image import ImageDataGenerator\n",
    "from keras.layers import Input, Dense, Flatten\n",
    "from keras.applications.vgg16 import VGG16\n",
    "from keras.utils.vis_utils import model_to_dot, plot_model\n",
    "\n",
    "import pydot\n",
    "import cv2\n",
    "import h5py"
   ]
  },
  {
   "cell_type": "markdown",
   "metadata": {},
   "source": [
    "### 一、加载数据"
   ]
  },
  {
   "cell_type": "code",
   "execution_count": 33,
   "metadata": {},
   "outputs": [
    {
     "name": "stdout",
     "output_type": "stream",
     "text": [
      "loading driver_dataset/train/c0, image count=2489\n",
      "loading driver_dataset/train/c1, image count=2267\n",
      "loading driver_dataset/train/c2, image count=2317\n",
      "loading driver_dataset/train/c3, image count=2346\n",
      "loading driver_dataset/train/c4, image count=2326\n",
      "loading driver_dataset/train/c5, image count=2312\n",
      "loading driver_dataset/train/c6, image count=2325\n",
      "loading driver_dataset/train/c7, image count=2002\n",
      "loading driver_dataset/train/c8, image count=1911\n",
      "loading driver_dataset/train/c9, image count=2129\n",
      "loading complete!\n",
      "(22424, 224, 224, 3)\n",
      "(22424,)\n"
     ]
    }
   ],
   "source": [
    "driver_dataset_folder_path = 'driver_dataset'\n",
    "zip_path = 'imgs.zip'\n",
    "\n",
    "# 解压图像数据压缩包\n",
    "if not isdir(driver_dataset_folder_path):\n",
    "    with zipfile.ZipFile(zip_path) as zipfile:\n",
    "        zipfile.extractall(driver_dataset_folder_path)\n",
    "        zipfile.close()\n",
    "\n",
    "# vgg16模型图像数据大小固定为224*224\n",
    "image_size = 224\n",
    "X = []\n",
    "y = []\n",
    "for i in range(10):\n",
    "    image_path = join(driver_dataset_folder_path, 'train', 'c%s'%i)\n",
    "    images = glob.glob(join(image_path, '*.jpg'))\n",
    "    print('loading {}, image count={}'.format(image_path, len(images)))\n",
    "    for image_file in images:\n",
    "        image = cv2.imread(image_file)\n",
    "        X.append(cv2.resize(image, (image_size, image_size)))\n",
    "        y.append(i)\n",
    "X = np.array(X)\n",
    "y = np.array(y)\n",
    "print('loading complete!')\n",
    "print(X.shape)\n",
    "print(y.shape)"
   ]
  },
  {
   "cell_type": "code",
   "execution_count": 32,
   "metadata": {
    "scrolled": false
   },
   "outputs": [
    {
     "data": {
      "image/png": "[encoded data removed]",
      "text/plain": [
       "<matplotlib.figure.Figure at 0x191fc0d30>"
      ]
     },
     "metadata": {},
     "output_type": "display_data"
    }
   ],
   "source": [
    "driver_image_list = pd.read_csv('driver_imgs_list.csv')\n",
    "class_frequency = driver_image_list.groupby('classname').count()['img']\n",
    "\n",
    "plt.xlabel('class name')\n",
    "plt.ylabel('frequency')\n",
    "plt.title('Class frequency for each class')\n",
    "plt.bar(['c0','c1', 'c2', 'c3', 'c4', 'c5', 'c6', 'c7', 'c8', 'c9'], class_frequency)\n",
    "plt.show()"
   ]
  },
  {
   "cell_type": "markdown",
   "metadata": {},
   "source": [
    "### 二、创建基准模型"
   ]
  },
  {
   "cell_type": "code",
   "execution_count": 69,
   "metadata": {
    "scrolled": false
   },
   "outputs": [],
   "source": [
    "def create_model_vgg16():\n",
    "    model_vgg16 = VGG16(include_top=False, weights='imagenet')\n",
    "    \n",
    "    print('Print vgg16 model summary:')\n",
    "    print(model_vgg16.summary())\n",
    "\n",
    "    input = Input(shape=(224, 224, 3), name='image_input')\n",
    "\n",
    "    output_vgg16_conv = model_vgg16(input)\n",
    "\n",
    "    x = Flatten()(output_vgg16_conv)\n",
    "\n",
    "    x = Dense(10, activation='softmax')(x)\n",
    "\n",
    "    model = Model(inputs=input, outputs=x)\n",
    "\n",
    "    model.compile(optimizer='adadelta', loss='categorical_crossentropy', metrics=['accuracy'])\n",
    "    \n",
    "    return model_vgg16"
   ]
  },
  {
   "cell_type": "markdown",
   "metadata": {},
   "source": [
    "### 三、基准模型可视化"
   ]
  },
  {
   "cell_type": "code",
   "execution_count": 70,
   "metadata": {},
   "outputs": [
    {
     "ename": "ValueError",
     "evalue": "If using `weights` as imagenet with `include_top` as true, `classes` should be 1000",
     "output_type": "error",
     "traceback": [
      "\u001b[0;31m---------------------------------------------------------------------------\u001b[0m",
      "\u001b[0;31mValueError\u001b[0m                                Traceback (most recent call last)",
      "\u001b[0;32m<ipython-input-70-6a391247f46a>\u001b[0m in \u001b[0;36m<module>\u001b[0;34m()\u001b[0m\n\u001b[0;32m----> 1\u001b[0;31m \u001b[0mmodel\u001b[0m \u001b[0;34m=\u001b[0m \u001b[0mcreate_model_vgg16\u001b[0m\u001b[0;34m(\u001b[0m\u001b[0;34m)\u001b[0m\u001b[0;34m\u001b[0m\u001b[0m\n\u001b[0m\u001b[1;32m      2\u001b[0m \u001b[0mprint\u001b[0m\u001b[0;34m(\u001b[0m\u001b[0;34m'Print my model summry:'\u001b[0m\u001b[0;34m)\u001b[0m\u001b[0;34m\u001b[0m\u001b[0m\n\u001b[1;32m      3\u001b[0m \u001b[0mprint\u001b[0m\u001b[0;34m(\u001b[0m\u001b[0mmodel\u001b[0m\u001b[0;34m.\u001b[0m\u001b[0msummary\u001b[0m\u001b[0;34m(\u001b[0m\u001b[0;34m)\u001b[0m\u001b[0;34m)\u001b[0m\u001b[0;34m\u001b[0m\u001b[0m\n\u001b[1;32m      4\u001b[0m \u001b[0mplot_model\u001b[0m\u001b[0;34m(\u001b[0m\u001b[0mmodel\u001b[0m\u001b[0;34m,\u001b[0m \u001b[0mshow_shapes\u001b[0m\u001b[0;34m=\u001b[0m\u001b[0;32mTrue\u001b[0m\u001b[0;34m)\u001b[0m\u001b[0;34m\u001b[0m\u001b[0m\n\u001b[1;32m      5\u001b[0m \u001b[0mImage\u001b[0m\u001b[0;34m(\u001b[0m\u001b[0;34m'model.png'\u001b[0m\u001b[0;34m)\u001b[0m\u001b[0;34m\u001b[0m\u001b[0m\n",
      "\u001b[0;32m<ipython-input-69-5f930dc3f9ee>\u001b[0m in \u001b[0;36mcreate_model_vgg16\u001b[0;34m()\u001b[0m\n\u001b[1;32m      1\u001b[0m \u001b[0;32mdef\u001b[0m \u001b[0mcreate_model_vgg16\u001b[0m\u001b[0;34m(\u001b[0m\u001b[0;34m)\u001b[0m\u001b[0;34m:\u001b[0m\u001b[0;34m\u001b[0m\u001b[0m\n\u001b[0;32m----> 2\u001b[0;31m     \u001b[0mmodel_vgg16\u001b[0m \u001b[0;34m=\u001b[0m \u001b[0mVGG16\u001b[0m\u001b[0;34m(\u001b[0m\u001b[0minclude_top\u001b[0m\u001b[0;34m=\u001b[0m\u001b[0;32mTrue\u001b[0m\u001b[0;34m,\u001b[0m \u001b[0mweights\u001b[0m\u001b[0;34m=\u001b[0m\u001b[0;34m'imagenet'\u001b[0m\u001b[0;34m,\u001b[0m \u001b[0mclasses\u001b[0m\u001b[0;34m=\u001b[0m\u001b[0;36m10\u001b[0m\u001b[0;34m)\u001b[0m\u001b[0;34m\u001b[0m\u001b[0m\n\u001b[0m\u001b[1;32m      3\u001b[0m \u001b[0;34m\u001b[0m\u001b[0m\n\u001b[1;32m      4\u001b[0m     \u001b[0mprint\u001b[0m\u001b[0;34m(\u001b[0m\u001b[0;34m'Print vgg16 model summary:'\u001b[0m\u001b[0;34m)\u001b[0m\u001b[0;34m\u001b[0m\u001b[0m\n\u001b[1;32m      5\u001b[0m     \u001b[0mprint\u001b[0m\u001b[0;34m(\u001b[0m\u001b[0mmodel_vgg16\u001b[0m\u001b[0;34m.\u001b[0m\u001b[0msummary\u001b[0m\u001b[0;34m(\u001b[0m\u001b[0;34m)\u001b[0m\u001b[0;34m)\u001b[0m\u001b[0;34m\u001b[0m\u001b[0m\n",
      "\u001b[0;32m/Library/Frameworks/Python.framework/Versions/3.6/lib/python3.6/site-packages/keras/applications/vgg16.py\u001b[0m in \u001b[0;36mVGG16\u001b[0;34m(include_top, weights, input_tensor, input_shape, pooling, classes)\u001b[0m\n\u001b[1;32m     95\u001b[0m \u001b[0;34m\u001b[0m\u001b[0m\n\u001b[1;32m     96\u001b[0m     \u001b[0;32mif\u001b[0m \u001b[0mweights\u001b[0m \u001b[0;34m==\u001b[0m \u001b[0;34m'imagenet'\u001b[0m \u001b[0;32mand\u001b[0m \u001b[0minclude_top\u001b[0m \u001b[0;32mand\u001b[0m \u001b[0mclasses\u001b[0m \u001b[0;34m!=\u001b[0m \u001b[0;36m1000\u001b[0m\u001b[0;34m:\u001b[0m\u001b[0;34m\u001b[0m\u001b[0m\n\u001b[0;32m---> 97\u001b[0;31m         raise ValueError('If using `weights` as imagenet with `include_top`'\n\u001b[0m\u001b[1;32m     98\u001b[0m                          ' as true, `classes` should be 1000')\n\u001b[1;32m     99\u001b[0m     \u001b[0;31m# Determine proper input shape\u001b[0m\u001b[0;34m\u001b[0m\u001b[0;34m\u001b[0m\u001b[0m\n",
      "\u001b[0;31mValueError\u001b[0m: If using `weights` as imagenet with `include_top` as true, `classes` should be 1000"
     ]
    }
   ],
   "source": [
    "model = create_model_vgg16()\n",
    "print('Print my model summry:')\n",
    "print(model.summary())\n",
    "plot_model(model, show_shapes=True)\n",
    "Image('model.png')"
   ]
  },
  {
   "cell_type": "markdown",
   "metadata": {},
   "source": [
    "### 四、基准模型预测"
   ]
  },
  {
   "cell_type": "code",
   "execution_count": 60,
   "metadata": {},
   "outputs": [
    {
     "name": "stdout",
     "output_type": "stream",
     "text": [
      "3/3 [==============================] - 2s 728ms/step\n",
      "[[9.0627974e-01 9.3719922e-02 1.4108381e-14 1.2085282e-24 2.9723884e-07\n",
      "  8.3257638e-15 5.2966706e-19 1.1275160e-18 9.1672647e-20 6.6512688e-20]\n",
      " [3.9821186e-09 9.9884462e-01 1.9193274e-20 3.8235816e-20 3.8284428e-12\n",
      "  6.8846644e-11 1.1553349e-03 5.4999310e-13 4.2458831e-14 6.7059685e-26]\n",
      " [1.5578469e-03 1.0775943e-02 7.6180295e-04 4.2763793e-14 7.7409073e-05\n",
      "  9.8590982e-01 4.2667786e-08 2.8426583e-10 9.1713161e-04 4.7305242e-14]]\n",
      "11\n"
     ]
    }
   ],
   "source": [
    "out = model.predict(X[:3], verbose=1)\n",
    "\n",
    "print(out)"
   ]
  },
  {
   "cell_type": "markdown",
   "metadata": {},
   "source": [
    "### 五、基准模型评估"
   ]
  },
  {
   "cell_type": "code",
   "execution_count": null,
   "metadata": {
    "collapsed": true
   },
   "outputs": [],
   "source": []
  }
 ],
 "metadata": {
  "kernelspec": {
   "display_name": "Python 3",
   "language": "python",
   "name": "python3"
  }
 },
 "nbformat": 4,
 "nbformat_minor": 2
}
