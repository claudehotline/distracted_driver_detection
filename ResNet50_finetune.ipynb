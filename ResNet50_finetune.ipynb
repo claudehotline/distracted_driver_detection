{
 "cells": [
  {
   "cell_type": "markdown",
   "metadata": {},
   "source": [
    "# 毕业项目：检测分神司机"
   ]
  },
  {
   "cell_type": "code",
   "execution_count": 1,
   "metadata": {
    "scrolled": false
   },
   "outputs": [
    {
     "name": "stderr",
     "output_type": "stream",
     "text": [
      "d:\\python35\\lib\\site-packages\\h5py\\__init__.py:36: FutureWarning: Conversion of the second argument of issubdtype from `float` to `np.floating` is deprecated. In future, it will be treated as `np.float64 == np.dtype(float).type`.\n",
      "  from ._conv import register_converters as _register_converters\n",
      "Using TensorFlow backend.\n"
     ]
    }
   ],
   "source": [
    "%config InlineBackend.figure_format = 'retina'\n",
    "\n",
    "from urllib.request import urlretrieve\n",
    "from os.path import isfile, isdir, join, pardir\n",
    "from IPython.display import SVG, Image\n",
    "import os, shutil\n",
    "import random\n",
    "import glob\n",
    "import zipfile\n",
    "\n",
    "import pandas as pd\n",
    "import numpy as np\n",
    "import matplotlib.pyplot as plt\n",
    "import seaborn as sns\n",
    "\n",
    "from keras.preprocessing import image\n",
    "from keras.models import Model, load_model\n",
    "from keras.preprocessing.image import ImageDataGenerator\n",
    "from keras.layers import Input, Dense, Flatten, GlobalAveragePooling2D, Dropout\n",
    "from keras import optimizers\n",
    "from keras.utils.vis_utils import model_to_dot, plot_model\n",
    "from keras.utils import to_categorical\n",
    "from keras import regularizers\n",
    "\n",
    "from keras.applications import resnet50\n",
    "from keras.applications.resnet50 import ResNet50\n",
    "\n",
    "\n",
    "import pydot\n",
    "import cv2\n",
    "import h5py"
   ]
  },
  {
   "cell_type": "code",
   "execution_count": 2,
   "metadata": {},
   "outputs": [
    {
     "name": "stderr",
     "output_type": "stream",
     "text": [
      "d:\\python35\\lib\\site-packages\\keras\\preprocessing\\image.py:504: UserWarning: This ImageDataGenerator specifies `featurewise_std_normalization`, which overrides setting of `featurewise_center`.\n",
      "  warnings.warn('This ImageDataGenerator specifies '\n"
     ]
    },
    {
     "name": "stdout",
     "output_type": "stream",
     "text": [
      "Found 20097 images belonging to 10 classes.\n",
      "Found 2327 images belonging to 10 classes.\n"
     ]
    }
   ],
   "source": [
    "driver_dataset_folder_path = join(pardir, 'data', 'driver_dataset')\n",
    "image_train_folder_path = join(pardir, 'data', 'driver_dataset', 'train')\n",
    "image_test_floder_path = join(pardir, 'data', 'driver_dataset', 'test')\n",
    "image_valid_folder_path = join(pardir, 'data', 'driver_dataset', 'valid')\n",
    "\n",
    "resnet50_train_datagen = ImageDataGenerator(\n",
    "    rotation_range=10.,\n",
    "    width_shift_range=0.05,\n",
    "    height_shift_range=0.05,\n",
    "    preprocessing_function=resnet50.preprocess_input)\n",
    "\n",
    "resnet50_valid_datagen = ImageDataGenerator(\n",
    "    preprocessing_function=resnet50.preprocess_input)\n",
    "\n",
    "\n",
    "resnet50_train_generator = resnet50_train_datagen.flow_from_directory(\n",
    "    image_train_folder_path,\n",
    "    target_size=(224, 224),\n",
    "    batch_size=64,\n",
    "    class_mode='categorical')\n",
    "\n",
    "resnet50_valid_generator = resnet50_valid_datagen.flow_from_directory(\n",
    "    image_valid_folder_path,\n",
    "    target_size=(224, 224),\n",
    "    batch_size=64,\n",
    "    class_mode='categorical',\n",
    "    shuffle=False)"
   ]
  },
  {
   "cell_type": "markdown",
   "metadata": {},
   "source": [
    "### 二、创建模型"
   ]
  },
  {
   "cell_type": "code",
   "execution_count": 3,
   "metadata": {},
   "outputs": [
    {
     "name": "stdout",
     "output_type": "stream",
     "text": [
      "0 input_1\n",
      "1 conv1\n",
      "2 bn_conv1\n",
      "3 activation_1\n",
      "4 max_pooling2d_1\n",
      "5 res2a_branch2a\n",
      "6 bn2a_branch2a\n",
      "7 activation_2\n",
      "8 res2a_branch2b\n",
      "9 bn2a_branch2b\n",
      "10 activation_3\n",
      "11 res2a_branch2c\n",
      "12 res2a_branch1\n",
      "13 bn2a_branch2c\n",
      "14 bn2a_branch1\n",
      "15 add_1\n",
      "16 activation_4\n",
      "17 res2b_branch2a\n",
      "18 bn2b_branch2a\n",
      "19 activation_5\n",
      "20 res2b_branch2b\n",
      "21 bn2b_branch2b\n",
      "22 activation_6\n",
      "23 res2b_branch2c\n",
      "24 bn2b_branch2c\n",
      "25 add_2\n",
      "26 activation_7\n",
      "27 res2c_branch2a\n",
      "28 bn2c_branch2a\n",
      "29 activation_8\n",
      "30 res2c_branch2b\n",
      "31 bn2c_branch2b\n",
      "32 activation_9\n",
      "33 res2c_branch2c\n",
      "34 bn2c_branch2c\n",
      "35 add_3\n",
      "36 activation_10\n",
      "37 res3a_branch2a\n",
      "38 bn3a_branch2a\n",
      "39 activation_11\n",
      "40 res3a_branch2b\n",
      "41 bn3a_branch2b\n",
      "42 activation_12\n",
      "43 res3a_branch2c\n",
      "44 res3a_branch1\n",
      "45 bn3a_branch2c\n",
      "46 bn3a_branch1\n",
      "47 add_4\n",
      "48 activation_13\n",
      "49 res3b_branch2a\n",
      "50 bn3b_branch2a\n",
      "51 activation_14\n",
      "52 res3b_branch2b\n",
      "53 bn3b_branch2b\n",
      "54 activation_15\n",
      "55 res3b_branch2c\n",
      "56 bn3b_branch2c\n",
      "57 add_5\n",
      "58 activation_16\n",
      "59 res3c_branch2a\n",
      "60 bn3c_branch2a\n",
      "61 activation_17\n",
      "62 res3c_branch2b\n",
      "63 bn3c_branch2b\n",
      "64 activation_18\n",
      "65 res3c_branch2c\n",
      "66 bn3c_branch2c\n",
      "67 add_6\n",
      "68 activation_19\n",
      "69 res3d_branch2a\n",
      "70 bn3d_branch2a\n",
      "71 activation_20\n",
      "72 res3d_branch2b\n",
      "73 bn3d_branch2b\n",
      "74 activation_21\n",
      "75 res3d_branch2c\n",
      "76 bn3d_branch2c\n",
      "77 add_7\n",
      "78 activation_22\n",
      "79 res4a_branch2a\n",
      "80 bn4a_branch2a\n",
      "81 activation_23\n",
      "82 res4a_branch2b\n",
      "83 bn4a_branch2b\n",
      "84 activation_24\n",
      "85 res4a_branch2c\n",
      "86 res4a_branch1\n",
      "87 bn4a_branch2c\n",
      "88 bn4a_branch1\n",
      "89 add_8\n",
      "90 activation_25\n",
      "91 res4b_branch2a\n",
      "92 bn4b_branch2a\n",
      "93 activation_26\n",
      "94 res4b_branch2b\n",
      "95 bn4b_branch2b\n",
      "96 activation_27\n",
      "97 res4b_branch2c\n",
      "98 bn4b_branch2c\n",
      "99 add_9\n",
      "100 activation_28\n",
      "101 res4c_branch2a\n",
      "102 bn4c_branch2a\n",
      "103 activation_29\n",
      "104 res4c_branch2b\n",
      "105 bn4c_branch2b\n",
      "106 activation_30\n",
      "107 res4c_branch2c\n",
      "108 bn4c_branch2c\n",
      "109 add_10\n",
      "110 activation_31\n",
      "111 res4d_branch2a\n",
      "112 bn4d_branch2a\n",
      "113 activation_32\n",
      "114 res4d_branch2b\n",
      "115 bn4d_branch2b\n",
      "116 activation_33\n",
      "117 res4d_branch2c\n",
      "118 bn4d_branch2c\n",
      "119 add_11\n",
      "120 activation_34\n",
      "121 res4e_branch2a\n",
      "122 bn4e_branch2a\n",
      "123 activation_35\n",
      "124 res4e_branch2b\n",
      "125 bn4e_branch2b\n",
      "126 activation_36\n",
      "127 res4e_branch2c\n",
      "128 bn4e_branch2c\n",
      "129 add_12\n",
      "130 activation_37\n",
      "131 res4f_branch2a\n",
      "132 bn4f_branch2a\n",
      "133 activation_38\n",
      "134 res4f_branch2b\n",
      "135 bn4f_branch2b\n",
      "136 activation_39\n",
      "137 res4f_branch2c\n",
      "138 bn4f_branch2c\n",
      "139 add_13\n",
      "140 activation_40\n",
      "141 res5a_branch2a\n",
      "142 bn5a_branch2a\n",
      "143 activation_41\n",
      "144 res5a_branch2b\n",
      "145 bn5a_branch2b\n",
      "146 activation_42\n",
      "147 res5a_branch2c\n",
      "148 res5a_branch1\n",
      "149 bn5a_branch2c\n",
      "150 bn5a_branch1\n",
      "151 add_14\n",
      "152 activation_43\n",
      "153 res5b_branch2a\n",
      "154 bn5b_branch2a\n",
      "155 activation_44\n",
      "156 res5b_branch2b\n",
      "157 bn5b_branch2b\n",
      "158 activation_45\n",
      "159 res5b_branch2c\n",
      "160 bn5b_branch2c\n",
      "161 add_15\n",
      "162 activation_46\n",
      "163 res5c_branch2a\n",
      "164 bn5c_branch2a\n",
      "165 activation_47\n",
      "166 res5c_branch2b\n",
      "167 bn5c_branch2b\n",
      "168 activation_48\n",
      "169 res5c_branch2c\n",
      "170 bn5c_branch2c\n",
      "171 add_16\n",
      "172 activation_49\n",
      "173 avg_pool\n"
     ]
    }
   ],
   "source": [
    "model_resnet50 = ResNet50(include_top=False, weights='imagenet')\n",
    "\n",
    "#print('Print resnet50 model summary:')\n",
    "#print(model_resnet50.summary())\n",
    "\n",
    "for i, layer in enumerate(model_resnet50.layers):\n",
    "    print (i, layer.name)\n",
    "        \n",
    "input = Input(shape=(224, 224, 3),name = 'image_input')\n",
    " \n",
    "output_resnet50_conv = model_resnet50(input)\n",
    "   \n",
    "x = GlobalAveragePooling2D()(output_resnet50_conv)\n",
    "x = Dropout(0.5)(x)\n",
    "x = Dense(10, activation='softmax')(x)"
   ]
  },
  {
   "cell_type": "markdown",
   "metadata": {},
   "source": [
    "### 三、模型创建\n",
    "#### 1.锁定ResNet50模型前77层"
   ]
  },
  {
   "cell_type": "code",
   "execution_count": 6,
   "metadata": {
    "scrolled": false
   },
   "outputs": [
    {
     "name": "stderr",
     "output_type": "stream",
     "text": [
      "d:\\python35\\lib\\site-packages\\ipykernel_launcher.py:1: UserWarning: Update your `Model` call to the Keras 2 API: `Model(inputs=Tensor(\"im..., outputs=Tensor(\"de...)`\n",
      "  \"\"\"Entry point for launching an IPython kernel.\n"
     ]
    }
   ],
   "source": [
    "model_77 = Model(input=input, output=x)\n",
    "\n",
    "for i in range(77):\n",
    "    model_resnet50.layers[i].trainable = False\n",
    "    \n",
    "adam = optimizers.Adam(lr=1e-4)\n",
    "model_77.compile(optimizer=adam, loss='categorical_crossentropy', metrics=['categorical_accuracy'])"
   ]
  },
  {
   "cell_type": "code",
   "execution_count": 7,
   "metadata": {},
   "outputs": [
    {
     "name": "stdout",
     "output_type": "stream",
     "text": [
      "Epoch 1/5\n"
     ]
    },
    {
     "name": "stderr",
     "output_type": "stream",
     "text": [
      "d:\\python35\\lib\\site-packages\\keras\\preprocessing\\image.py:571: UserWarning: This ImageDataGenerator specifies `featurewise_center`, but it hasn't been fit on any training data. Fit it first by calling `.fit(numpy_data)`.\n",
      "  warnings.warn('This ImageDataGenerator specifies '\n",
      "d:\\python35\\lib\\site-packages\\keras\\preprocessing\\image.py:579: UserWarning: This ImageDataGenerator specifies `featurewise_std_normalization`, but it hasn't been fit on any training data. Fit it first by calling `.fit(numpy_data)`.\n",
      "  warnings.warn('This ImageDataGenerator specifies '\n"
     ]
    },
    {
     "name": "stdout",
     "output_type": "stream",
     "text": [
      "315/315 [==============================] - 315s 998ms/step - loss: 0.4716 - categorical_accuracy: 0.9140 - val_loss: 0.5805 - val_categorical_accuracy: 0.9020\n",
      "Epoch 2/5\n",
      "315/315 [==============================] - 298s 947ms/step - loss: 0.2069 - categorical_accuracy: 0.9883 - val_loss: 0.6123 - val_categorical_accuracy: 0.8943\n",
      "Epoch 3/5\n",
      "315/315 [==============================] - 294s 933ms/step - loss: 0.1685 - categorical_accuracy: 0.9918 - val_loss: 0.8261 - val_categorical_accuracy: 0.8694\n",
      "Epoch 4/5\n",
      "315/315 [==============================] - 289s 916ms/step - loss: 0.1348 - categorical_accuracy: 0.9956 - val_loss: 0.5646 - val_categorical_accuracy: 0.9115\n",
      "Epoch 5/5\n",
      "315/315 [==============================] - 287s 912ms/step - loss: 0.1087 - categorical_accuracy: 0.9968 - val_loss: 0.4077 - val_categorical_accuracy: 0.9128\n"
     ]
    }
   ],
   "source": [
    "history_resnet50_finetune_77 = model_77.fit_generator(\n",
    "    resnet50_train_generator,\n",
    "    epochs=5,\n",
    "    validation_data=resnet50_valid_generator)"
   ]
  },
  {
   "cell_type": "code",
   "execution_count": 8,
   "metadata": {},
   "outputs": [
    {
     "name": "stderr",
     "output_type": "stream",
     "text": [
      "d:\\python35\\lib\\site-packages\\keras\\preprocessing\\image.py:571: UserWarning: This ImageDataGenerator specifies `featurewise_center`, but it hasn't been fit on any training data. Fit it first by calling `.fit(numpy_data)`.\n",
      "  warnings.warn('This ImageDataGenerator specifies '\n",
      "d:\\python35\\lib\\site-packages\\keras\\preprocessing\\image.py:579: UserWarning: This ImageDataGenerator specifies `featurewise_std_normalization`, but it hasn't been fit on any training data. Fit it first by calling `.fit(numpy_data)`.\n",
      "  warnings.warn('This ImageDataGenerator specifies '\n"
     ]
    },
    {
     "name": "stdout",
     "output_type": "stream",
     "text": [
      "Resnet50 model saved.\n"
     ]
    }
   ],
   "source": [
    "model_77.save(join(pardir, 'model', 'resnet50_finetune_77.h5'))\n",
    "print(\"Resnet50 model saved.\")"
   ]
  },
  {
   "cell_type": "code",
   "execution_count": 9,
   "metadata": {
    "scrolled": false
   },
   "outputs": [
    {
     "name": "stdout",
     "output_type": "stream",
     "text": [
      "{'categorical_accuracy': [0.9137682241130517, 0.9913917500124396, 0.9948748569438225, 0.9955714783300991, 0.9967656864208588], 'loss': [0.47087136590018724, 0.2016238686326262, 0.1620874644547735, 0.1340757778327121, 0.10680400097364809], 'val_loss': [0.5804805106034748, 0.6123096648848615, 0.8260980729745292, 0.5645500306771659, 0.4076889715944691], 'val_categorical_accuracy': [0.9020197678006766, 0.8942844863864143, 0.8693596907168127, 0.9114740007826326, 0.9127632142598915]}\n"
     ]
    },
    {
     "data": {
      "image/png": "[encoded data removed]",
      "text/plain": [
       "<matplotlib.figure.Figure at 0x25502307630>"
      ]
     },
     "metadata": {
      "image/png": {
       "height": 250,
       "width": 373
      }
     },
     "output_type": "display_data"
    }
   ],
   "source": [
    "print (history_resnet50_finetune_77.history)\n",
    "plt.plot (history_resnet50_finetune_77.history['loss'], label=\"trainning loss\")\n",
    "plt.plot (history_resnet50_finetune_77.history['val_loss'], label=\"validation loss\")\n",
    "plt.legend()\n",
    "plt.show()"
   ]
  },
  {
   "cell_type": "markdown",
   "metadata": {},
   "source": [
    "#### 2.锁定ResNet50模型前139层"
   ]
  },
  {
   "cell_type": "code",
   "execution_count": 6,
   "metadata": {},
   "outputs": [
    {
     "name": "stderr",
     "output_type": "stream",
     "text": [
      "d:\\python35\\lib\\site-packages\\ipykernel_launcher.py:1: UserWarning: Update your `Model` call to the Keras 2 API: `Model(outputs=Tensor(\"de..., inputs=Tensor(\"im...)`\n",
      "  \"\"\"Entry point for launching an IPython kernel.\n"
     ]
    }
   ],
   "source": [
    "model_139 = Model(input=input, output=x)\n",
    "\n",
    "for i in range(139):\n",
    "    model_resnet50.layers[i].trainable = False\n",
    "    \n",
    "adam = optimizers.Adam(lr=1e-4)\n",
    "model_139.compile(optimizer=adam, loss='categorical_crossentropy', metrics=['categorical_accuracy'])"
   ]
  },
  {
   "cell_type": "code",
   "execution_count": 7,
   "metadata": {},
   "outputs": [
    {
     "name": "stdout",
     "output_type": "stream",
     "text": [
      "Epoch 1/5\n"
     ]
    },
    {
     "name": "stderr",
     "output_type": "stream",
     "text": [
      "d:\\python35\\lib\\site-packages\\keras\\preprocessing\\image.py:571: UserWarning: This ImageDataGenerator specifies `featurewise_center`, but it hasn't been fit on any training data. Fit it first by calling `.fit(numpy_data)`.\n",
      "  warnings.warn('This ImageDataGenerator specifies '\n",
      "d:\\python35\\lib\\site-packages\\keras\\preprocessing\\image.py:579: UserWarning: This ImageDataGenerator specifies `featurewise_std_normalization`, but it hasn't been fit on any training data. Fit it first by calling `.fit(numpy_data)`.\n",
      "  warnings.warn('This ImageDataGenerator specifies '\n"
     ]
    },
    {
     "name": "stdout",
     "output_type": "stream",
     "text": [
      "315/315 [==============================] - 307s 976ms/step - loss: 0.5572 - categorical_accuracy: 0.8865 - val_loss: 0.5823 - val_categorical_accuracy: 0.8896\n",
      "Epoch 2/5\n",
      "315/315 [==============================] - 290s 921ms/step - loss: 0.2216 - categorical_accuracy: 0.9894 - val_loss: 0.6191 - val_categorical_accuracy: 0.8844\n",
      "Epoch 3/5\n",
      "315/315 [==============================] - 1208s 4s/step - loss: 0.1802 - categorical_accuracy: 0.9906 - val_loss: 0.5927 - val_categorical_accuracy: 0.8771\n",
      "Epoch 4/5\n",
      "315/315 [==============================] - 359s 1s/step - loss: 0.1493 - categorical_accuracy: 0.9963 - val_loss: 0.6550 - val_categorical_accuracy: 0.8792\n",
      "Epoch 5/5\n",
      "315/315 [==============================] - 298s 946ms/step - loss: 0.1312 - categorical_accuracy: 0.9929 - val_loss: 0.5539 - val_categorical_accuracy: 0.8844\n"
     ]
    }
   ],
   "source": [
    "history_resnet50_finetune_139 = model_139.fit_generator(\n",
    "    resnet50_train_generator,\n",
    "    epochs=5,\n",
    "    validation_data=resnet50_valid_generator)"
   ]
  },
  {
   "cell_type": "code",
   "execution_count": 8,
   "metadata": {},
   "outputs": [
    {
     "name": "stderr",
     "output_type": "stream",
     "text": [
      "d:\\python35\\lib\\site-packages\\keras\\preprocessing\\image.py:571: UserWarning: This ImageDataGenerator specifies `featurewise_center`, but it hasn't been fit on any training data. Fit it first by calling `.fit(numpy_data)`.\n",
      "  warnings.warn('This ImageDataGenerator specifies '\n",
      "d:\\python35\\lib\\site-packages\\keras\\preprocessing\\image.py:579: UserWarning: This ImageDataGenerator specifies `featurewise_std_normalization`, but it hasn't been fit on any training data. Fit it first by calling `.fit(numpy_data)`.\n",
      "  warnings.warn('This ImageDataGenerator specifies '\n"
     ]
    },
    {
     "name": "stdout",
     "output_type": "stream",
     "text": [
      "Resnet50 model saved.\n"
     ]
    }
   ],
   "source": [
    "model_139.save(join(pardir, 'model', 'resnet50_finetune_139.h5'))\n",
    "print(\"Resnet50 model saved.\")"
   ]
  },
  {
   "cell_type": "code",
   "execution_count": 9,
   "metadata": {},
   "outputs": [
    {
     "name": "stdout",
     "output_type": "stream",
     "text": [
      "{'val_categorical_accuracy': [0.8895573700299118, 0.88440051555736, 0.877094972131075, 0.8792436612256873, 0.8844005157878894], 'val_loss': [0.5823261844379276, 0.6191351862490613, 0.5926974127105136, 0.6549508739655039, 0.5539399759678253], 'categorical_accuracy': [0.886152162014231, 0.9893516445240583, 0.9937304075235109, 0.9962680997163755, 0.9959695476936856], 'loss': [0.5549267448287298, 0.2182751054899511, 0.174963803150621, 0.14442235214494203, 0.12281734950389293]}\n"
     ]
    },
    {
     "data": {
      "image/png": "[encoded data removed]",
      "text/plain": [
       "<matplotlib.figure.Figure at 0x1facab8ef28>"
      ]
     },
     "metadata": {
      "image/png": {
       "height": 250,
       "width": 373
      }
     },
     "output_type": "display_data"
    }
   ],
   "source": [
    "print (history_resnet50_finetune_139.history)\n",
    "plt.plot (history_resnet50_finetune_139.history['loss'], label=\"trainning loss\")\n",
    "plt.plot (history_resnet50_finetune_139.history['val_loss'], label=\"validation loss\")\n",
    "plt.legend()\n",
    "plt.show()"
   ]
  },
  {
   "cell_type": "markdown",
   "metadata": {},
   "source": [
    "### 四、模型预测\n",
    "准备测试集数据"
   ]
  },
  {
   "cell_type": "code",
   "execution_count": 10,
   "metadata": {},
   "outputs": [
    {
     "name": "stdout",
     "output_type": "stream",
     "text": [
      "Found 79726 images belonging to 1 classes.\n"
     ]
    }
   ],
   "source": [
    "test_image_path = join(driver_dataset_folder_path, 'test')\n",
    "resnet50_test_datagen = ImageDataGenerator(preprocessing_function=resnet50.preprocess_input)\n",
    "resnet50_test_generator = resnet50_test_datagen.flow_from_directory(\n",
    "    test_image_path,\n",
    "    target_size=(224, 224),\n",
    "    batch_size=32,\n",
    "    shuffle=False,\n",
    "    class_mode='categorical')"
   ]
  },
  {
   "cell_type": "markdown",
   "metadata": {},
   "source": [
    "#### 1.model_Resnet50_finetune_77\n",
    "模型加载"
   ]
  },
  {
   "cell_type": "code",
   "execution_count": 11,
   "metadata": {},
   "outputs": [
    {
     "name": "stdout",
     "output_type": "stream",
     "text": [
      "Model loaded.\n"
     ]
    }
   ],
   "source": [
    "model_resnet50_finetune_77 = load_model(join(pardir, 'model', 'resnet50_finetune_77.h5'))\n",
    "print(\"Model loaded.\")"
   ]
  },
  {
   "cell_type": "markdown",
   "metadata": {},
   "source": [
    "结果预测"
   ]
  },
  {
   "cell_type": "code",
   "execution_count": 12,
   "metadata": {},
   "outputs": [
    {
     "name": "stdout",
     "output_type": "stream",
     "text": [
      "2492/2492 [==============================] - 614s 247ms/step\n",
      "(79726, 10)\n"
     ]
    }
   ],
   "source": [
    "pred_resnet50_finetune_77 = model_resnet50_finetune_77.predict_generator(resnet50_test_generator, verbose=1)\n",
    "print(pred_resnet50_finetune_77.shape)"
   ]
  },
  {
   "cell_type": "markdown",
   "metadata": {},
   "source": [
    "生成kaggle提交文件"
   ]
  },
  {
   "cell_type": "code",
   "execution_count": 13,
   "metadata": {},
   "outputs": [],
   "source": [
    "image_names = []\n",
    "for root, dirs, file_name in os.walk(join(test_image_path, '0')):\n",
    "    image_names.append(file_name)\n",
    "image_names = np.array(image_names).transpose()"
   ]
  },
  {
   "cell_type": "code",
   "execution_count": 14,
   "metadata": {
    "scrolled": false
   },
   "outputs": [],
   "source": [
    "result_resnet50_finetune_77 = np.append(image_names, pred_resnet50_finetune_77, axis = 1)\n",
    "predict_result_resnet50_finetune_77 = pd.DataFrame(result_resnet50_finetune_77, \n",
    "            columns=['img', 'c0', 'c1', 'c2', 'c3', 'c4', 'c5', 'c6', 'c7', 'c8', 'c9'])\n",
    "predict_result_resnet50_finetune_77.to_csv('result_resnet50_finetune_77.csv', index=False)"
   ]
  },
  {
   "cell_type": "markdown",
   "metadata": {
    "collapsed": true
   },
   "source": [
    "#### 2.model_Resnet50_finetune_139\n",
    "模型加载"
   ]
  },
  {
   "cell_type": "code",
   "execution_count": 11,
   "metadata": {},
   "outputs": [
    {
     "name": "stdout",
     "output_type": "stream",
     "text": [
      "Model loaded.\n"
     ]
    }
   ],
   "source": [
    "model_resnet50_finetune_139 = load_model(join(pardir, 'model', 'resnet50_finetune_139.h5'))\n",
    "print(\"Model loaded.\")"
   ]
  },
  {
   "cell_type": "markdown",
   "metadata": {},
   "source": [
    "结果预测"
   ]
  },
  {
   "cell_type": "code",
   "execution_count": 12,
   "metadata": {},
   "outputs": [
    {
     "name": "stdout",
     "output_type": "stream",
     "text": [
      "2492/2492 [==============================] - 614s 246ms/step\n",
      "(79726, 10)\n"
     ]
    }
   ],
   "source": [
    "pred_resnet50_finetune_139 = model_resnet50_finetune_139.predict_generator(resnet50_test_generator, verbose=1)\n",
    "print(pred_resnet50_finetune_139.shape)"
   ]
  },
  {
   "cell_type": "markdown",
   "metadata": {},
   "source": [
    "生成kaggle提交文件"
   ]
  },
  {
   "cell_type": "code",
   "execution_count": 13,
   "metadata": {},
   "outputs": [],
   "source": [
    "image_names = []\n",
    "for root, dirs, file_name in os.walk(join(test_image_path, '0')):\n",
    "    image_names.append(file_name)\n",
    "image_names = np.array(image_names).transpose()"
   ]
  },
  {
   "cell_type": "code",
   "execution_count": 14,
   "metadata": {},
   "outputs": [],
   "source": [
    "result_resnet50_finetune_139 = np.append(image_names, pred_resnet50_finetune_139, axis = 1)\n",
    "predict_result_resnet50_finetune_139 = pd.DataFrame(result_resnet50_finetune_139, \n",
    "            columns=['img', 'c0', 'c1', 'c2', 'c3', 'c4', 'c5', 'c6', 'c7', 'c8', 'c9'])\n",
    "predict_result_resnet50_finetune_139.to_csv('result_resnet50_finetune_139.csv', index=False)"
   ]
  },
  {
   "cell_type": "code",
   "execution_count": null,
   "metadata": {},
   "outputs": [],
   "source": []
  }
 ],
 "metadata": {
  "kernelspec": {
   "display_name": "Python 3",
   "language": "python",
   "name": "python3"
  },
  "language_info": {
   "codemirror_mode": {
    "name": "ipython",
    "version": 3
   },
   "file_extension": ".py",
   "mimetype": "text/x-python",
   "name": "python",
   "nbconvert_exporter": "python",
   "pygments_lexer": "ipython3",
   "version": "3.5.2"
  }
 },
 "nbformat": 4,
 "nbformat_minor": 2
}
