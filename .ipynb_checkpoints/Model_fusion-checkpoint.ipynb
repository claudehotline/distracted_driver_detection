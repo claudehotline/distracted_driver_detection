{
 "cells": [
  {
   "cell_type": "markdown",
   "metadata": {},
   "source": [
    "### 模型融合"
   ]
  },
  {
   "cell_type": "code",
   "execution_count": 26,
   "metadata": {},
   "outputs": [],
   "source": [
    "import pandas as pd"
   ]
  },
  {
   "cell_type": "code",
   "execution_count": 27,
   "metadata": {},
   "outputs": [],
   "source": [
    "img_name = pd.read_csv('sample_submission.csv')['img']\n",
    "category = ['c0', 'c1', 'c2', 'c3', 'c4', 'c5', 'c6', 'c7', 'c8', 'c9']"
   ]
  },
  {
   "cell_type": "markdown",
   "metadata": {},
   "source": [
    "#### 1.Xception_35, InceptionResNetV2_274, InceptionV3_100 3个模型融合"
   ]
  },
  {
   "cell_type": "code",
   "execution_count": 28,
   "metadata": {},
   "outputs": [],
   "source": [
    "result_xception_finetune_35 = pd.read_csv('result_xception_finetune_35.csv')\n",
    "result_Inceptionresnetv2_finetune_274 = pd.read_csv('result_Inceptionresnetv2_finetune_274.csv')\n",
    "result_Inceptionv3_finetune_100 = pd.read_csv('result_inceptionv3_finetune_100.csv')\n",
    "\n",
    "average = (result_xception_finetune_35[category] + result_Inceptionresnetv2_finetune_274[category] + result_Inceptionv3_finetune_100[category])/3\n",
    "\n",
    "average.insert(0, 'img', pd.Series(img_name))\n",
    "\n",
    "average.to_csv('Xception_35+InceptionResNetV2_274+InceptionV3_100.csv', index=False)"
   ]
  },
  {
   "cell_type": "markdown",
   "metadata": {},
   "source": [
    "#### 2.Xception_35, ResNet50_77, Xception_35 3个模型融合"
   ]
  },
  {
   "cell_type": "code",
   "execution_count": 30,
   "metadata": {},
   "outputs": [],
   "source": [
    "result_xception_finetune_35 = pd.read_csv('result_xception_finetune_35.csv')\n",
    "result_resnet50_finetune_77 = pd.read_csv('result_resnet50_finetune_77.csv')\n",
    "result_xception_finetune_75 = pd.read_csv('result_xception_finetune_75.csv')\n",
    "\n",
    "average = (result_xception_finetune_35[category] + result_resnet50_finetune_77[category] + result_xception_finetune_75[category])/3\n",
    "\n",
    "average.insert(0, 'img', pd.Series(img_name))\n",
    "\n",
    "average.to_csv('Xception_35+ResNet50_77+Xception_35.csv', index=False)"
   ]
  },
  {
   "cell_type": "code",
   "execution_count": null,
   "metadata": {},
   "outputs": [],
   "source": []
  }
 ],
 "metadata": {
  "kernelspec": {
   "display_name": "Python 3",
   "language": "python",
   "name": "python3"
  },
  "language_info": {
   "codemirror_mode": {
    "name": "ipython",
    "version": 3
   },
   "file_extension": ".py",
   "mimetype": "text/x-python",
   "name": "python",
   "nbconvert_exporter": "python",
   "pygments_lexer": "ipython3",
   "version": "3.5.2"
  }
 },
 "nbformat": 4,
 "nbformat_minor": 2
}
