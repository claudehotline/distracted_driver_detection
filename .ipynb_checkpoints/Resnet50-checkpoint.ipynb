{
 "cells": [
  {
   "cell_type": "markdown",
   "metadata": {},
   "source": [
    "# 毕业项目：检测分神司机"
   ]
  },
  {
   "cell_type": "code",
   "execution_count": 3,
   "metadata": {
    "scrolled": false
   },
   "outputs": [
    {
     "name": "stderr",
     "output_type": "stream",
     "text": [
      "d:\\python35\\lib\\site-packages\\h5py\\__init__.py:36: FutureWarning: Conversion of the second argument of issubdtype from `float` to `np.floating` is deprecated. In future, it will be treated as `np.float64 == np.dtype(float).type`.\n",
      "  from ._conv import register_converters as _register_converters\n",
      "Using TensorFlow backend.\n"
     ]
    }
   ],
   "source": [
    "%config InlineBackend.figure_format = 'retina'\n",
    "\n",
    "from urllib.request import urlretrieve\n",
    "from os.path import isfile, isdir, join, pardir\n",
    "from IPython.display import SVG, Image\n",
    "import os, shutil\n",
    "import random\n",
    "import glob\n",
    "import zipfile\n",
    "\n",
    "import pandas as pd\n",
    "import numpy as np\n",
    "import matplotlib.pyplot as plt\n",
    "import seaborn as sns\n",
    "\n",
    "from keras.preprocessing import image\n",
    "from keras.models import Model, load_model\n",
    "from keras.preprocessing.image import ImageDataGenerator\n",
    "from keras.layers import Input, Dense, Flatten, GlobalAveragePooling2D, Dropout\n",
    "from keras import optimizers\n",
    "from keras.utils.vis_utils import model_to_dot, plot_model\n",
    "from keras.utils import to_categorical\n",
    "from keras import regularizers\n",
    "\n",
    "from keras.applications import resnet50\n",
    "from keras.applications.resnet50 import ResNet50\n",
    "\n",
    "\n",
    "import pydot\n",
    "import cv2\n",
    "import h5py"
   ]
  },
  {
   "cell_type": "code",
   "execution_count": 37,
   "metadata": {},
   "outputs": [
    {
     "name": "stdout",
     "output_type": "stream",
     "text": [
      "Found 20097 images belonging to 10 classes.\n",
      "Found 2327 images belonging to 10 classes.\n",
      "Found 20097 images belonging to 10 classes.\n",
      "Found 2327 images belonging to 10 classes.\n"
     ]
    }
   ],
   "source": [
    "driver_dataset_folder_path = join(pardir, 'data', 'driver_dataset')\n",
    "image_train_folder_path = join(pardir, 'data', 'driver_dataset', 'train')\n",
    "image_test_floder_path = join(pardir, 'data', 'driver_dataset', 'test')\n",
    "image_valid_folder_path = join(pardir, 'data', 'driver_dataset', 'valid')\n",
    "\n",
    "resnet50_train_datagen = ImageDataGenerator(\n",
    "    featurewise_std_normalization=True,\n",
    "    rotation_range=10.,\n",
    "    width_shift_range=0.05,\n",
    "    height_shift_range=0.05,\n",
    "    preprocessing_function=resnet50.preprocess_input)\n",
    "\n",
    "resnet50_valid_datagen = ImageDataGenerator(\n",
    "    featurewise_std_normalization=True,\n",
    "    preprocessing_function=resnet50.preprocess_input)\n",
    "\n",
    "\n",
    "resnet50_train_generator = resnet50_train_datagen.flow_from_directory(\n",
    "    image_train_folder_path,\n",
    "    target_size=(224, 224),\n",
    "    batch_size=64,\n",
    "    class_mode='categorical')\n",
    "\n",
    "resnet50_valid_generator = resnet50_valid_datagen.flow_from_directory(\n",
    "    image_valid_folder_path,\n",
    "    target_size=(224, 224),\n",
    "    batch_size=64,\n",
    "    class_mode='categorical',\n",
    "    shuffle=False)"
   ]
  },
  {
   "cell_type": "markdown",
   "metadata": {},
   "source": [
    "### 二、创建基准模型"
   ]
  },
  {
   "cell_type": "code",
   "execution_count": 42,
   "metadata": {
    "collapsed": true
   },
   "outputs": [],
   "source": [
    "def create_model_resnet50():\n",
    "    model_resnet50 = ResNet50(include_top=False, weights='imagenet')\n",
    "\n",
    "    print('Print resnet50 model summary:')\n",
    "    print(model_resnet50.summary())\n",
    "\n",
    "    for i in range(77):\n",
    "        model_resnet50.layers[i].trainable = False\n",
    "        \n",
    "    input = Input(shape=(224, 224, 3),name = 'image_input')\n",
    " \n",
    "    output_resnet50_conv = model_resnet50(input)\n",
    "   \n",
    "    x = GlobalAveragePooling2D()(output_resnet50_conv)\n",
    "    x = Dropout(0.5)(x)\n",
    "    x = Dense(10, activation='softmax', kernel_regularizer=regularizers.l2(0.01))(x)\n",
    "    \n",
    "    model = Model(input=input, output=x)\n",
    "    \n",
    "    adam = optimizers.Adam(lr=1e-4)\n",
    "    model.compile(optimizer=adam, loss='categorical_crossentropy', metrics=['categorical_accuracy'])\n",
    "    return model"
   ]
  },
  {
   "cell_type": "markdown",
   "metadata": {},
   "source": [
    "### 三、模型创建"
   ]
  },
  {
   "cell_type": "code",
   "execution_count": 43,
   "metadata": {
    "scrolled": true
   },
   "outputs": [
    {
     "name": "stdout",
     "output_type": "stream",
     "text": [
      "6\n"
     ]
    },
    {
     "name": "stderr",
     "output_type": "stream",
     "text": [
      "d:\\python35\\lib\\site-packages\\ipykernel_launcher.py:23: UserWarning: Update your `Model` call to the Keras 2 API: `Model(inputs=Tensor(\"im..., outputs=Tensor(\"pr...)`\n"
     ]
    }
   ],
   "source": [
    "model_resnet50_finetune_77 = create_model_resnet50()"
   ]
  },
  {
   "cell_type": "markdown",
   "metadata": {},
   "source": [
    "### 五、基准模型训练"
   ]
  },
  {
   "cell_type": "code",
   "execution_count": null,
   "metadata": {},
   "outputs": [
    {
     "name": "stdout",
     "output_type": "stream",
     "text": [
      "Epoch 1/20\n",
      "315/315 [==============================] - 180s 572ms/step - loss: 2.1794 - acc: 0.2234 - val_loss: 2.2018 - val_acc: 0.2028\n",
      "Epoch 2/20\n",
      "315/315 [==============================] - 165s 523ms/step - loss: 1.6562 - acc: 0.5254 - val_loss: 2.0257 - val_acc: 0.2282\n",
      "Epoch 3/20\n",
      "315/315 [==============================] - 171s 543ms/step - loss: 1.1962 - acc: 0.7208 - val_loss: 1.9430 - val_acc: 0.2475\n",
      "Epoch 4/20\n",
      "315/315 [==============================] - 172s 545ms/step - loss: 0.8505 - acc: 0.8218 - val_loss: 1.8534 - val_acc: 0.2987\n",
      "Epoch 5/20\n",
      "315/315 [==============================] - 171s 544ms/step - loss: 0.6132 - acc: 0.8779 - val_loss: 1.7692 - val_acc: 0.3249\n",
      "Epoch 6/20\n",
      "315/315 [==============================] - 171s 544ms/step - loss: 0.4588 - acc: 0.9089 - val_loss: 1.6901 - val_acc: 0.3640\n",
      "Epoch 7/20\n",
      "315/315 [==============================] - 172s 545ms/step - loss: 0.3550 - acc: 0.9300 - val_loss: 1.6357 - val_acc: 0.3863\n",
      "Epoch 8/20\n",
      "315/315 [==============================] - 172s 545ms/step - loss: 0.2877 - acc: 0.9442 - val_loss: 1.5926 - val_acc: 0.4130\n",
      "Epoch 9/20\n",
      "315/315 [==============================] - 171s 544ms/step - loss: 0.2395 - acc: 0.9507 - val_loss: 1.5157 - val_acc: 0.4568\n",
      "Epoch 10/20\n",
      "279/315 [=========================>....] - ETA: 17s - loss: 0.2089 - acc: 0.9557"
     ]
    }
   ],
   "source": [
    "history_resnet50_finetune_77 = model_resnet50_finetune_77.fit_generator(\n",
    "    resnet50_train_generator,\n",
    "    epochs=5,\n",
    "    validation_data=resnet50_valid_generator)"
   ]
  },
  {
   "cell_type": "code",
   "execution_count": 14,
   "metadata": {},
   "outputs": [
    {
     "name": "stdout",
     "output_type": "stream",
     "text": [
      "Resnet50 model saved.\n"
     ]
    }
   ],
   "source": [
    "model_resnet50_finetune_77.save(join(pardir, 'model', 'resnet50_finetune_77.h5'))\n",
    "print(\"Resnet50 model saved.\")"
   ]
  },
  {
   "cell_type": "markdown",
   "metadata": {},
   "source": [
    "### 六、基准模型评估"
   ]
  },
  {
   "cell_type": "code",
   "execution_count": 15,
   "metadata": {},
   "outputs": [
    {
     "name": "stdout",
     "output_type": "stream",
     "text": [
      "Found 79726 images belonging to 1 classes.\n",
      "Model loaded.\n",
      "2492/2492 [==============================] - 628s 252ms/step\n",
      "(79726, 10)\n"
     ]
    }
   ],
   "source": [
    "test_image_path = join(driver_dataset_folder_path, 'test')\n",
    "resnet50_test_datagen = ImageDataGenerator(preprocessing_function=resnet50.preprocess_input)\n",
    "resnet50_test_generator = resnet50_test_datagen.flow_from_directory(\n",
    "    test_image_path,\n",
    "    target_size=(224, 224),\n",
    "    batch_size=32,\n",
    "    shuffle=False,\n",
    "    class_mode='categorical')\n",
    "\n",
    "model_resnet50_finetune_77 = load_model(join(pardir, 'model', 'resnet50_finetune_77.h5'))\n",
    "print(\"Model loaded.\")\n",
    "pred_resnet50_finetune_77 = model_resnet50.predict_generator(resnet50_test_generator, verbose=1)\n",
    "print(pred_resnet50_finetune_77.shape)"
   ]
  },
  {
   "cell_type": "markdown",
   "metadata": {},
   "source": [
    "### 六、生成kaggle提交文件"
   ]
  },
  {
   "cell_type": "code",
   "execution_count": 16,
   "metadata": {
    "collapsed": true
   },
   "outputs": [],
   "source": [
    "image_names = []\n",
    "for root, dirs, file_name in os.walk(join(test_image_path, '0')):\n",
    "    image_names.append(file_name)\n",
    "image_names = np.array(image_names).transpose()"
   ]
  },
  {
   "cell_type": "code",
   "execution_count": 17,
   "metadata": {
    "collapsed": true,
    "scrolled": false
   },
   "outputs": [],
   "source": [
    "result_resnet50_finetune_77 = np.append(image_names, pred_resnet50_finetune_77, axis = 1)\n",
    "predict_result_resnet50_finetune_77 = pd.DataFrame(result_resnet50_finetune_77, \n",
    "            columns=['img', 'c0', 'c1', 'c2', 'c3', 'c4', 'c5', 'c6', 'c7', 'c8', 'c9'])\n",
    "predict_result_resnet50_finetune_77.to_csv('result_resnet50_finetune_77.csv', index=False)"
   ]
  },
  {
   "cell_type": "code",
   "execution_count": null,
   "metadata": {
    "collapsed": true
   },
   "outputs": [],
   "source": []
  }
 ],
 "metadata": {
  "kernelspec": {
   "display_name": "Python 3",
   "language": "python",
   "name": "python3"
  },
  "language_info": {
   "codemirror_mode": {
    "name": "ipython",
    "version": 3
   },
   "file_extension": ".py",
   "mimetype": "text/x-python",
   "name": "python",
   "nbconvert_exporter": "python",
   "pygments_lexer": "ipython3",
   "version": "3.5.2"
  }
 },
 "nbformat": 4,
 "nbformat_minor": 2
}
