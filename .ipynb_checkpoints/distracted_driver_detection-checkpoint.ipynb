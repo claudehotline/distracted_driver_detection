{
 "cells": [
  {
   "cell_type": "code",
   "execution_count": null,
   "metadata": {
    "collapsed": true
   },
   "outputs": [],
   "source": [
    "from urllib.request import urlretrieve\n",
    "from os.path import isfile, isdir\n",
    "from tqdm import tqdm\n",
    "import zipfile\n",
    "\n",
    "driver_dataset_folder_path = 'driver_dataset'\n",
    "zip_path = 'imgs.zip'\n",
    "\n",
    "class DLProgress(tqdm):\n",
    "    last_block = 0\n",
    "    \n",
    "    def hook(self, block_num=1, block_size=1, total_size=None):\n",
    "        self.total = total_size\n",
    "        self.update((block_num -self.last_block) * block_size)\n",
    "        self.last_block = block_num\n",
    "print \"222\"        \n",
    "if not isfile(zip_path):\n",
    "    with DLProgress(unit='B', unit_scale=True, miniters=1, desc='Driver Dataset') as pbar:\n",
    "        urlretrieve(\n",
    "            'https://www.kaggle.com/c/state-farm-distracted-driver-detection/download/imgs.zip',\n",
    "            zip_path,\n",
    "            pbar.hook\n",
    "        )\n",
    "        \n",
    "print \"111\"        \n",
    "if not isdir(driver_dataset_folder_path):\n",
    "    with zipfile.open(zip_path) as zipfile:\n",
    "        zipfile.extractall()\n",
    "        zipfile.close()"
   ]
  },
  {
   "cell_type": "code",
   "execution_count": null,
   "metadata": {
    "collapsed": true
   },
   "outputs": [],
   "source": []
  }
 ],
 "metadata": {
  "kernelspec": {
   "display_name": "Python 3",
   "language": "python",
   "name": "python3"
  },
  "language_info": {
   "codemirror_mode": {
    "name": "ipython",
    "version": 3
   },
   "file_extension": ".py",
   "mimetype": "text/x-python",
   "name": "python",
   "nbconvert_exporter": "python",
   "pygments_lexer": "ipython3",
   "version": "3.6.4"
  }
 },
 "nbformat": 4,
 "nbformat_minor": 2
}
