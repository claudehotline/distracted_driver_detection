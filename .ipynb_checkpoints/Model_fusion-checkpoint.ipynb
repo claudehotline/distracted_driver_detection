{
 "cells": [
  {
   "cell_type": "markdown",
   "metadata": {},
   "source": [
    "### 模型融合"
   ]
  },
  {
   "cell_type": "code",
   "execution_count": 1,
   "metadata": {},
   "outputs": [],
   "source": [
    "import pandas as pd"
   ]
  },
  {
   "cell_type": "code",
   "execution_count": 2,
   "metadata": {},
   "outputs": [],
   "source": [
    "img_name = pd.read_csv('sample_submission.csv')['img']\n",
    "category = ['c0', 'c1', 'c2', 'c3', 'c4', 'c5', 'c6', 'c7', 'c8', 'c9']"
   ]
  },
  {
   "cell_type": "markdown",
   "metadata": {},
   "source": [
    "#### 1.ResNet50_77, Inception_V3_100, Xception_75 3个模型融合"
   ]
  },
  {
   "cell_type": "code",
   "execution_count": 3,
   "metadata": {},
   "outputs": [],
   "source": [
    "result1 = pd.read_csv('result_resnet50_finetune_77.csv')\n",
    "result2 = pd.read_csv('result_inceptionv3_finetune_100.csv')\n",
    "result3 = pd.read_csv('result_xception_finetune_75.csv')\n",
    "\n",
    "average = (result1[category] + result2[category] + result3[category])/3\n",
    "\n",
    "average.insert(0, 'img', pd.Series(img_name))\n",
    "\n",
    "average.to_csv('resnet50_77+inceptionv3_100+xception_75.csv', index=False)"
   ]
  },
  {
   "cell_type": "markdown",
   "metadata": {},
   "source": [
    "#### 2.Xception_35, ResNet50_77, Xception_75 3个模型融合"
   ]
  },
  {
   "cell_type": "code",
   "execution_count": 3,
   "metadata": {},
   "outputs": [],
   "source": [
    "result_xception_finetune_35 = pd.read_csv('result_xception_finetune_35.csv')\n",
    "result_resnet50_finetune_77 = pd.read_csv('result_resnet50_finetune_77.csv')\n",
    "result_xception_finetune_75 = pd.read_csv('result_xception_finetune_75.csv')\n",
    "\n",
    "average = (result_xception_finetune_35[category] + result_resnet50_finetune_77[category] + result_xception_finetune_75[category])/3\n",
    "\n",
    "average.insert(0, 'img', pd.Series(img_name))\n",
    "\n",
    "average.to_csv('Xception_35+ResNet50_77+Xception_75.csv', index=False)"
   ]
  },
  {
   "cell_type": "code",
   "execution_count": null,
   "metadata": {},
   "outputs": [],
   "source": []
  }
 ],
 "metadata": {
  "kernelspec": {
   "display_name": "Python 3",
   "language": "python",
   "name": "python3"
  },
  "language_info": {
   "codemirror_mode": {
    "name": "ipython",
    "version": 3
   },
   "file_extension": ".py",
   "mimetype": "text/x-python",
   "name": "python",
   "nbconvert_exporter": "python",
   "pygments_lexer": "ipython3",
   "version": "3.6.4"
  }
 },
 "nbformat": 4,
 "nbformat_minor": 2
}
